{
  "nbformat": 4,
  "nbformat_minor": 0,
  "metadata": {
    "colab": {
      "name": "Autoencoder MLP Sequential",
      "provenance": [],
      "collapsed_sections": [],
      "authorship_tag": "ABX9TyMyglAHV5Ns5fmo70NW3D5Z"
    },
    "kernelspec": {
      "name": "python3",
      "display_name": "Python 3"
    },
    "language_info": {
      "name": "python"
    }
  },
  "cells": [
    {
      "cell_type": "markdown",
      "metadata": {
        "id": "tj54CGMhswzZ"
      },
      "source": [
        "# Sequential \n",
        "\n",
        "Neste notebook, vamos criar um autoencoder com algumas camadas tanto na rede encoder quanto na rede decoder. Encoder e decoder serão redes simétricas.  \n",
        "\n",
        "Existem três maneiras de especificar um modelo em Keras. A mais simples e direta é quando instanciamos o modelo usando a classe **Sequential **. Objetos desta classe são compostos por uma lista ordenada de camadas, cada camada sendo limitada a um único tensor como entrada e um único tensor como saída. As outras maneiras de especificar modelos em Keras serão cobertas em outros notebooks. "
      ]
    },
    {
      "cell_type": "code",
      "metadata": {
        "id": "PUZ2piKHszaj"
      },
      "source": [
        "from keras.models import Sequential \n",
        "from keras.layers import Dense\n",
        "from keras.datasets import mnist\n",
        "import numpy as np\n",
        "import matplotlib.pyplot as plt "
      ],
      "execution_count": null,
      "outputs": []
    },
    {
      "cell_type": "code",
      "metadata": {
        "id": "-wbG-ZY4M_3C"
      },
      "source": [
        "# instanciamos um objeto chamado \"model\" pertencente à classe de modelo Sequential \n",
        "model = Sequential()\n",
        "\n",
        "# empilhamos as camadas sucessivas a partir da entrada usando o método .add\n",
        "model.add(Dense(128, activation='relu', input_dim=784))\n",
        "\n",
        "# O argumento de entrada do método .add é uma camada instanciada.\n",
        "# Acima, instaciamos um objeto da classe Dense.\n",
        "# Cada camada será uma rede densamente conectada (MultiLayer Perceptron ou MLP)\n",
        "# Especicando a 1a camada escondida com 128 nós e ativação relu\n",
        "# Note que a camada de entrada está especificada também.\n",
        "\n",
        "# Adicionando a segunda e terceira camadas do encoder\n",
        "model.add(Dense(64, activation='relu'))\n",
        "model.add(Dense(32, activation='relu'))\n",
        "\n",
        "# Agora vamos especificar a última camada do encoder, a camada CODE\n",
        "# Vamos usar dois nós (ou apenas dois números float) como representação de uma \n",
        "# imagem 28 x 28. Será que conseguimos uma representação boa com uma compressão \n",
        "# tão extrema? \n",
        "model.add(Dense(2, activation='relu')) \n",
        "\n",
        "# Agora começcamos a empilhar as camadas do decoder. As camadas serão versões \n",
        "# simétricas das camadas do encoder\n",
        "model.add(Dense(32, activation='relu'))\n",
        "model.add(Dense(64, activation='relu'))\n",
        "model.add(Dense(128, activation='relu'))\n",
        "\n",
        "# A última camada agora, a saída, que gera um vetor com a mesma dimensão que a \n",
        "# entrada, uma imagem 28 x 28 representada como um array com 784 entradas.\n",
        "model.add(Dense(784, activation='sigmoid')) "
      ],
      "execution_count": null,
      "outputs": []
    },
    {
      "cell_type": "code",
      "metadata": {
        "id": "3-u_cHThQq6y"
      },
      "source": [
        "# O método \"compile\" configura o modelo para treinamento.\n",
        "# Existem vários argumentos possíveis. Os mais fundamentais \n",
        "# são strings especificando o otimizador a ser usado e a \n",
        "# função de perda a ser minimizada\n",
        "\n",
        "model.compile(optimizer='adam', loss='binary_crossentropy')\n",
        "\n",
        "# Resumo do modelo especificado usando o método \".summary\" no objeto \"model\"\n",
        "model.summary()"
      ],
      "execution_count": null,
      "outputs": []
    },
    {
      "cell_type": "code",
      "metadata": {
        "colab": {
          "base_uri": "https://localhost:8080/"
        },
        "id": "chX4Y7lpA7Lc",
        "outputId": "8bcd65a1-23ac-442e-e2c2-9de9bf0f4786"
      },
      "source": [
        "# Load mnist dataset\n",
        "(x_train, y_train), (x_test, y_test) = mnist.load_data()\n",
        "\n",
        "x_train = x_train.astype('float32')/255\n",
        "x_test = x_test.astype('float32')/255\n",
        "x_train = x_train.reshape((len(x_train), np.prod(x_train.shape[1:])))\n",
        "x_test = x_test.reshape((len(x_test), np.prod(x_test.shape[1:])))\n",
        "\n",
        "print(f'x_train shape = {x_train.shape}')\n",
        "print(f'x_test shape = {x_test.shape}')"
      ],
      "execution_count": null,
      "outputs": [
        {
          "output_type": "stream",
          "name": "stdout",
          "text": [
            "Downloading data from https://storage.googleapis.com/tensorflow/tf-keras-datasets/mnist.npz\n",
            "11493376/11490434 [==============================] - 0s 0us/step\n",
            "11501568/11490434 [==============================] - 0s 0us/step\n",
            "x_train shape = (60000, 784)\n",
            "x_test shape = (10000, 784)\n"
          ]
        }
      ]
    },
    {
      "cell_type": "code",
      "metadata": {
        "colab": {
          "base_uri": "https://localhost:8080/"
        },
        "id": "mrxqghoKCAIR",
        "outputId": "f1c8e48c-eb88-4a4a-c39b-99c3014dc672"
      },
      "source": [
        "# Fitting the data\n",
        "# O métodod \".fit\" treina o modelo por um número fixo de épocas (números de passadas no \n",
        "# conjunto de dados completo) em blocos de batch_size exemplos.\n",
        "\n",
        "model.fit(x_train, x_train, epochs=50, batch_size=256, validation_data=(x_test, x_test))\n",
        "\n",
        "# A maneira usual de usar .fit é chamar model.fit(x, y, etc.)\n",
        "# com x sendo as features e y sendo a resposta \n",
        "# Como estamos ajustando um autoencoder, as features de entrada e a resposta são idênticas\n",
        "# Outro argumento do método é \"validation_data\", uma tupla (x_val, y_val) \n",
        "# de Numpy arrays or tensors. Novamente, usamos os mesmos dados x_test nas duas\n",
        "# entradas da tupla. "
      ],
      "execution_count": null,
      "outputs": [
        {
          "output_type": "stream",
          "name": "stdout",
          "text": [
            "Epoch 1/50\n",
            "235/235 [==============================] - 5s 16ms/step - loss: 0.3000 - val_loss: 0.2353\n",
            "Epoch 2/50\n",
            "235/235 [==============================] - 4s 15ms/step - loss: 0.2253 - val_loss: 0.2155\n",
            "Epoch 3/50\n",
            "235/235 [==============================] - 4s 15ms/step - loss: 0.2121 - val_loss: 0.2078\n",
            "Epoch 4/50\n",
            "235/235 [==============================] - 4s 15ms/step - loss: 0.2046 - val_loss: 0.2009\n",
            "Epoch 5/50\n",
            "235/235 [==============================] - 4s 15ms/step - loss: 0.1989 - val_loss: 0.1965\n",
            "Epoch 6/50\n",
            "235/235 [==============================] - 4s 15ms/step - loss: 0.1950 - val_loss: 0.1935\n",
            "Epoch 7/50\n",
            "235/235 [==============================] - 4s 15ms/step - loss: 0.1922 - val_loss: 0.1912\n",
            "Epoch 8/50\n",
            "235/235 [==============================] - 4s 15ms/step - loss: 0.1901 - val_loss: 0.1898\n",
            "Epoch 9/50\n",
            "235/235 [==============================] - 4s 15ms/step - loss: 0.1885 - val_loss: 0.1880\n",
            "Epoch 10/50\n",
            "235/235 [==============================] - 4s 15ms/step - loss: 0.1871 - val_loss: 0.1871\n",
            "Epoch 11/50\n",
            "235/235 [==============================] - 4s 15ms/step - loss: 0.1860 - val_loss: 0.1857\n",
            "Epoch 12/50\n",
            "235/235 [==============================] - 4s 15ms/step - loss: 0.1848 - val_loss: 0.1847\n",
            "Epoch 13/50\n",
            "235/235 [==============================] - 4s 15ms/step - loss: 0.1842 - val_loss: 0.1840\n",
            "Epoch 14/50\n",
            "235/235 [==============================] - 4s 15ms/step - loss: 0.1833 - val_loss: 0.1832\n",
            "Epoch 15/50\n",
            "235/235 [==============================] - 4s 15ms/step - loss: 0.1825 - val_loss: 0.1824\n",
            "Epoch 16/50\n",
            "235/235 [==============================] - 4s 15ms/step - loss: 0.1816 - val_loss: 0.1818\n",
            "Epoch 17/50\n",
            "235/235 [==============================] - 4s 15ms/step - loss: 0.1810 - val_loss: 0.1816\n",
            "Epoch 18/50\n",
            "235/235 [==============================] - 4s 15ms/step - loss: 0.1806 - val_loss: 0.1807\n",
            "Epoch 19/50\n",
            "235/235 [==============================] - 4s 15ms/step - loss: 0.1799 - val_loss: 0.1811\n",
            "Epoch 20/50\n",
            "235/235 [==============================] - 4s 15ms/step - loss: 0.1794 - val_loss: 0.1796\n",
            "Epoch 21/50\n",
            "235/235 [==============================] - 4s 15ms/step - loss: 0.1790 - val_loss: 0.1793\n",
            "Epoch 22/50\n",
            "235/235 [==============================] - 4s 15ms/step - loss: 0.1786 - val_loss: 0.1793\n",
            "Epoch 23/50\n",
            "235/235 [==============================] - 4s 16ms/step - loss: 0.1781 - val_loss: 0.1784\n",
            "Epoch 24/50\n",
            "235/235 [==============================] - 4s 15ms/step - loss: 0.1777 - val_loss: 0.1780\n",
            "Epoch 25/50\n",
            "235/235 [==============================] - 4s 15ms/step - loss: 0.1777 - val_loss: 0.1781\n",
            "Epoch 26/50\n",
            "235/235 [==============================] - 4s 15ms/step - loss: 0.1769 - val_loss: 0.1778\n",
            "Epoch 27/50\n",
            "235/235 [==============================] - 4s 16ms/step - loss: 0.1764 - val_loss: 0.1768\n",
            "Epoch 28/50\n",
            "235/235 [==============================] - 4s 15ms/step - loss: 0.1759 - val_loss: 0.1771\n",
            "Epoch 29/50\n",
            "235/235 [==============================] - 4s 16ms/step - loss: 0.1760 - val_loss: 0.1770\n",
            "Epoch 30/50\n",
            "235/235 [==============================] - 4s 15ms/step - loss: 0.1763 - val_loss: 0.1764\n",
            "Epoch 31/50\n",
            "235/235 [==============================] - 4s 15ms/step - loss: 0.1752 - val_loss: 0.1762\n",
            "Epoch 32/50\n",
            "235/235 [==============================] - 4s 15ms/step - loss: 0.1748 - val_loss: 0.1756\n",
            "Epoch 33/50\n",
            "235/235 [==============================] - 4s 15ms/step - loss: 0.1746 - val_loss: 0.1759\n",
            "Epoch 34/50\n",
            "235/235 [==============================] - 4s 15ms/step - loss: 0.1746 - val_loss: 0.1752\n",
            "Epoch 35/50\n",
            "235/235 [==============================] - 4s 15ms/step - loss: 0.1742 - val_loss: 0.1748\n",
            "Epoch 36/50\n",
            "235/235 [==============================] - 4s 15ms/step - loss: 0.1743 - val_loss: 0.1750\n",
            "Epoch 37/50\n",
            "235/235 [==============================] - 4s 15ms/step - loss: 0.1735 - val_loss: 0.1749\n",
            "Epoch 38/50\n",
            "235/235 [==============================] - 4s 16ms/step - loss: 0.1732 - val_loss: 0.1746\n",
            "Epoch 39/50\n",
            "235/235 [==============================] - 4s 15ms/step - loss: 0.1733 - val_loss: 0.1744\n",
            "Epoch 40/50\n",
            "235/235 [==============================] - 4s 15ms/step - loss: 0.1734 - val_loss: 0.1745\n",
            "Epoch 41/50\n",
            "235/235 [==============================] - 4s 15ms/step - loss: 0.1738 - val_loss: 0.1743\n",
            "Epoch 42/50\n",
            "235/235 [==============================] - 4s 15ms/step - loss: 0.1730 - val_loss: 0.1737\n",
            "Epoch 43/50\n",
            "235/235 [==============================] - 4s 15ms/step - loss: 0.1724 - val_loss: 0.1745\n",
            "Epoch 44/50\n",
            "235/235 [==============================] - 4s 16ms/step - loss: 0.1726 - val_loss: 0.1733\n",
            "Epoch 45/50\n",
            "235/235 [==============================] - 4s 15ms/step - loss: 0.1722 - val_loss: 0.1741\n",
            "Epoch 46/50\n",
            "235/235 [==============================] - 4s 16ms/step - loss: 0.1724 - val_loss: 0.1737\n",
            "Epoch 47/50\n",
            "235/235 [==============================] - 4s 16ms/step - loss: 0.1720 - val_loss: 0.1727\n",
            "Epoch 48/50\n",
            "235/235 [==============================] - 4s 15ms/step - loss: 0.1722 - val_loss: 0.1733\n",
            "Epoch 49/50\n",
            "235/235 [==============================] - 4s 16ms/step - loss: 0.1714 - val_loss: 0.1729\n",
            "Epoch 50/50\n",
            "235/235 [==============================] - 4s 15ms/step - loss: 0.1717 - val_loss: 0.1722\n"
          ]
        },
        {
          "output_type": "execute_result",
          "data": {
            "text/plain": [
              "<keras.callbacks.History at 0x7fc690acaa10>"
            ]
          },
          "metadata": {},
          "execution_count": 5
        }
      ]
    },
    {
      "cell_type": "markdown",
      "metadata": {
        "id": "viDfURqd5apv"
      },
      "source": [
        "## Resultado\n",
        "\n",
        "Podemos obter resultados muito melhores (um valor menor para a loss) se usarmos um CODE com menos compressão. Estamos comprimindo em apenas duas dimensões. Assim, a loss no conjunto de treinamento começa com 0.30 (e com 0.23 no conjunto de validação) baixando para 0.17 no fim do treinamento. Podemos obter uma loss bem menor com outras redes (veja o notebook com oa autoencoder convolucional). "
      ]
    },
    {
      "cell_type": "code",
      "metadata": {
        "id": "MGGUGrRuCm0H"
      },
      "source": [
        "# O método \"predict\" gera previsões de saída para as amostras de entrada.\n",
        "# Argumento principal é o conjunto de features de entrada para as quais queremos \n",
        "# fazer predições, usualmente um array numpy\n",
        "\n",
        "out_imgs = model.predict(x_test, batch_size=256)\n"
      ],
      "execution_count": null,
      "outputs": []
    },
    {
      "cell_type": "code",
      "metadata": {
        "colab": {
          "base_uri": "https://localhost:8080/",
          "height": 248
        },
        "id": "44YZ8odWDvvK",
        "outputId": "ae8ab74f-9bdc-4005-92da-033cfaa1739b"
      },
      "source": [
        "# Visualizando algumas entradas do conjunto de teste e a representação através \n",
        "# do autoencoder\n",
        "\n",
        "n = 10\n",
        "plt.figure(figsize=(20,4))\n",
        "\n",
        "for i in range(n):\n",
        "  ax = plt.subplot(2, n, i+1) # 10 plots na primeira linha \n",
        "  plt.imshow(x_test[i].reshape(28, 28)) # mostrando como imagem\n",
        "  plt.gray()\n",
        "  ax.get_xaxis().set_visible(False) # omitindo os eixos coordenados\n",
        "  ax.get_yaxis().set_visible(False)\n",
        "\n",
        "  ax = plt.subplot(2, n, i+1+n) # 10 plots na segunda linha \n",
        "  plt.imshow(out_imgs[i].reshape(28,28)) # usando as reconstruções \n",
        "  plt.gray()\n",
        "  ax.get_xaxis().set_visible(False)\n",
        "  ax.get_yaxis().set_visible(False)\n",
        "  \n",
        "plt.show()"
      ],
      "execution_count": null,
      "outputs": [
        {
          "output_type": "display_data",
          "data": {
            "image/png": "[encoded data removed]",
            "text/plain": [
              "<Figure size 1440x288 with 20 Axes>"
            ]
          },
          "metadata": {
            "needs_background": "light"
          }
        }
      ]
    },
    {
      "cell_type": "markdown",
      "metadata": {
        "id": "IM1vLIOP9Ke-"
      },
      "source": [
        "## UAU!!! Muito bom!!!\n",
        "\n",
        "Eu fico muito surpreso com a qualidade da recuperação pois usamos um CODE com dimensão 2. Vejam como esta representação é capaz de diferenciar entre dígitso 9 que tem sua \"perninha\" inclinada para a direita ou para a esquerda. Por outro lado, os 4's não foram bem recuperados, ficando meio parecidos com 9's. "
      ]
    },
    {
      "cell_type": "code",
      "metadata": {
        "id": "w5FVNOz_FKJI"
      },
      "source": [
        ""
      ],
      "execution_count": null,
      "outputs": []
    }
  ]
}