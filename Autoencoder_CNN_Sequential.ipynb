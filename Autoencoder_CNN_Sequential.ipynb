{
  "nbformat": 4,
  "nbformat_minor": 0,
  "metadata": {
    "colab": {
      "name": "Autoencoder CNN Sequential.ipynb",
      "provenance": [],
      "collapsed_sections": [],
      "authorship_tag": "ABX9TyPgPqFyBv4VCsFSCy8Kw7ZG"
    },
    "kernelspec": {
      "name": "python3",
      "display_name": "Python 3"
    },
    "language_info": {
      "name": "python"
    }
  },
  "cells": [
    {
      "cell_type": "code",
      "metadata": {
        "id": "zN7y8mLBCBSf"
      },
      "source": [
        "from keras.models import Sequential\n",
        "from keras.layers import Conv2D, MaxPooling2D, UpSampling2D\n",
        "from keras.datasets import mnist\n",
        "import keras\n",
        "import numpy as np\n",
        "import matplotlib.pyplot as plt "
      ],
      "execution_count": null,
      "outputs": []
    },
    {
      "cell_type": "code",
      "metadata": {
        "colab": {
          "base_uri": "https://localhost:8080/"
        },
        "id": "nh83DcW2Nkui",
        "outputId": "a77f78c5-4161-448c-b5a0-fa74b99d93e2"
      },
      "source": [
        "# Load mnist dataset\n",
        "(x_train, y_train), (x_test, y_test) = mnist.load_data()\n",
        "\n",
        "# Scale images to the interval [0,1]\n",
        "x_train = x_train.astype('float32')/255\n",
        "x_test = x_test.astype('float32')/255\n",
        "x_train = x_train.reshape((len(x_train), 28, 28, 1))\n",
        "x_test = x_test.reshape((len(x_test), 28, 28, 1)) \n",
        "\n",
        "print(f'x_train shape = {x_train.shape}')\n",
        "print(f'x_test shape = {x_test.shape}')"
      ],
      "execution_count": null,
      "outputs": [
        {
          "output_type": "stream",
          "name": "stdout",
          "text": [
            "x_train shape = (60000, 28, 28, 1)\n",
            "x_test shape = (10000, 28, 28, 1)\n"
          ]
        }
      ]
    },
    {
      "cell_type": "code",
      "metadata": {
        "colab": {
          "base_uri": "https://localhost:8080/"
        },
        "id": "GNg00fCUNyWm",
        "outputId": "851e806a-6210-4a30-b321-f3ff8d578069"
      },
      "source": [
        "# Build the model\n",
        "\n",
        "# instanciamos um objeto chamado \"model\" pertencente à classe de modelo Sequential \n",
        "model = Sequential()\n",
        "\n",
        "# empilhamos as camadas sucessivas a partir da entrada usando o método .add\n",
        "# Vamos usar camadas convolucionais\n",
        "# Defina a 1a camada com 64 filtros, todos de tamanho (3,3) \n",
        "model.add(Conv2D(64, kernel_size=(3, 3), activation=\"relu\", input_shape=(28,28,1)))\n",
        "\n",
        "# o parâmetro \"padding\" default é 'valid', que significa no padding (saída tem tamanho reduzido\n",
        "# por causa dos efeitos de borda na imagem) \n",
        "# Conv2D é um alias para Convolution2D\n",
        "\n",
        "# 2a camada: maxpool com filtro 2x2. Default é usar strides=None. Saída terá metade do tamanho da entrada.\n",
        "model.add(MaxPooling2D(pool_size=(2,2), padding='same'))\n",
        "\n",
        "# Demais camadas sucessivas, diminuindo o tamanho de cada camada\n",
        "model.add(Conv2D(filters=8, kernel_size=(3,3), padding='same', activation='relu'))\n",
        "model.add(MaxPooling2D(pool_size=(2,2), padding='same'))\n",
        "\n",
        "# Vamos agora especificar os nós do grafo de camadas associados com o decoder\n",
        "model.add(Conv2D(filters=8, kernel_size=(3,3), padding='same', activation='relu'))\n",
        "\n",
        "# Camada UpSampling com size=(a,b) --> repetimos cada linha a vezes e cada coluna b vezes \n",
        "model.add(UpSampling2D(size=(2,2)))\n",
        "\n",
        "# Demais camadas\n",
        "model.add(Conv2D(filters=8, kernel_size=(3,3), padding='same', activation='relu'))\n",
        "model.add(UpSampling2D(size=(2,2)))\n",
        "\n",
        "model.add(Conv2D(1, (3, 3), activation='sigmoid', padding='same'))\n",
        "\n",
        "#model.add(Conv2D(filters=8, kernel_size=(3,3), activation='relu'))\n",
        "#model.add(UpSampling2D(size=(2,2)))\n",
        "#model.add(Conv2D(filters=1, kernel_size=(3,3), padding='same', activation='sigmoid'))\n",
        "\n",
        "model.summary()"
      ],
      "execution_count": null,
      "outputs": [
        {
          "output_type": "stream",
          "name": "stdout",
          "text": [
            "Model: \"sequential_3\"\n",
            "_________________________________________________________________\n",
            " Layer (type)                Output Shape              Param #   \n",
            "=================================================================\n",
            " conv2d_24 (Conv2D)          (None, 26, 26, 64)        640       \n",
            "                                                                 \n",
            " max_pooling2d_11 (MaxPoolin  (None, 13, 13, 64)       0         \n",
            " g2D)                                                            \n",
            "                                                                 \n",
            " conv2d_25 (Conv2D)          (None, 13, 13, 8)         4616      \n",
            "                                                                 \n",
            " max_pooling2d_12 (MaxPoolin  (None, 7, 7, 8)          0         \n",
            " g2D)                                                            \n",
            "                                                                 \n",
            " conv2d_26 (Conv2D)          (None, 7, 7, 8)           584       \n",
            "                                                                 \n",
            " up_sampling2d_9 (UpSampling  (None, 14, 14, 8)        0         \n",
            " 2D)                                                             \n",
            "                                                                 \n",
            " conv2d_27 (Conv2D)          (None, 14, 14, 8)         584       \n",
            "                                                                 \n",
            " up_sampling2d_10 (UpSamplin  (None, 28, 28, 8)        0         \n",
            " g2D)                                                            \n",
            "                                                                 \n",
            " conv2d_28 (Conv2D)          (None, 28, 28, 1)         73        \n",
            "                                                                 \n",
            "=================================================================\n",
            "Total params: 6,497\n",
            "Trainable params: 6,497\n",
            "Non-trainable params: 0\n",
            "_________________________________________________________________\n"
          ]
        }
      ]
    },
    {
      "cell_type": "code",
      "metadata": {
        "id": "75jcwHm2qND5"
      },
      "source": [
        "# compilando o modelo \n",
        "\n",
        "model.compile(loss=\"categorical_crossentropy\", optimizer=\"adam\", metrics=[\"accuracy\"])"
      ],
      "execution_count": null,
      "outputs": []
    },
    {
      "cell_type": "code",
      "metadata": {
        "colab": {
          "base_uri": "https://localhost:8080/"
        },
        "id": "NGD3m872NyXY",
        "outputId": "ea3e1560-7a38-4d47-844b-755515da3ac2"
      },
      "source": [
        "# Train the model\n",
        "\n",
        "batch_size = 128\n",
        "epochs = 5\n",
        "\n",
        "model.fit(x_train, x_train, batch_size=batch_size, epochs=epochs, validation_split=0.1)"
      ],
      "execution_count": null,
      "outputs": [
        {
          "output_type": "stream",
          "name": "stdout",
          "text": [
            "Epoch 1/5\n",
            "422/422 [==============================] - 72s 171ms/step - loss: 0.0000e+00 - accuracy: 0.8088 - val_loss: 0.0000e+00 - val_accuracy: 0.8088\n",
            "Epoch 2/5\n",
            "422/422 [==============================] - 72s 171ms/step - loss: 0.0000e+00 - accuracy: 0.8088 - val_loss: 0.0000e+00 - val_accuracy: 0.8088\n",
            "Epoch 3/5\n",
            "422/422 [==============================] - 72s 170ms/step - loss: 0.0000e+00 - accuracy: 0.8088 - val_loss: 0.0000e+00 - val_accuracy: 0.8088\n",
            "Epoch 4/5\n",
            "422/422 [==============================] - 72s 171ms/step - loss: 0.0000e+00 - accuracy: 0.8088 - val_loss: 0.0000e+00 - val_accuracy: 0.8088\n",
            "Epoch 5/5\n",
            "422/422 [==============================] - 72s 171ms/step - loss: 0.0000e+00 - accuracy: 0.8088 - val_loss: 0.0000e+00 - val_accuracy: 0.8088\n"
          ]
        },
        {
          "output_type": "execute_result",
          "data": {
            "text/plain": [
              "<keras.callbacks.History at 0x7f0126984090>"
            ]
          },
          "metadata": {},
          "execution_count": 25
        }
      ]
    },
    {
      "cell_type": "code",
      "metadata": {
        "colab": {
          "base_uri": "https://localhost:8080/"
        },
        "id": "yoM3HEKKRr8K",
        "outputId": "16afe8fa-9ab6-409c-97e4-5ff603b6d0a3"
      },
      "source": [
        "# Evaluate the trained model\n",
        "score = model.evaluate(x_test, y_test, verbose=0)\n",
        "print(\"Test loss:\", score[0])\n",
        "print(\"Test accuracy:\", score[1])  "
      ],
      "execution_count": null,
      "outputs": [
        {
          "output_type": "stream",
          "name": "stdout",
          "text": [
            "Test loss: 0.024927837774157524\n",
            "Test accuracy: 0.9907000064849854\n"
          ]
        }
      ]
    },
    {
      "cell_type": "code",
      "metadata": {
        "id": "aCraIi-84WxM"
      },
      "source": [
        ""
      ],
      "execution_count": null,
      "outputs": []
    }
  ]
}